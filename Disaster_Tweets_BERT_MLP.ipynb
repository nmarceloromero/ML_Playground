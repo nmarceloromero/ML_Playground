{
 "cells": [
  {
   "cell_type": "markdown",
   "id": "15d7555d",
   "metadata": {},
   "source": [
    "# Disaster Tweets Classification\n",
    "This notebook presents a task to perform classification of tweets (we need to define if the tweet is about a natural disaster or not). For this purpose, the BERT pre-trained network is used as feature extractor, and an MLP is trained and used as the classifier. The dataset used in this work is from the following Kaggle competition: https://www.kaggle.com/c/nlp-getting-started/overview"
   ]
  },
  {
   "cell_type": "markdown",
   "id": "26791473",
   "metadata": {},
   "source": [
    "## Import libraries"
   ]
  },
  {
   "cell_type": "code",
   "execution_count": 5,
   "id": "3ab7aa7d",
   "metadata": {},
   "outputs": [],
   "source": [
    "# --------------- IMPORTS --------------- #\n",
    "import torch\n",
    "import transformers\n",
    "import numpy   as np\n",
    "import pandas  as pd\n",
    "import seaborn as sns\n",
    "import matplotlib.pyplot as plt\n",
    "from torch  import nn\n",
    "from torch  import optim\n",
    "from string import punctuation\n",
    "from transformers import BertTokenizer, BertModel\n",
    "from sklearn.model_selection import train_test_split\n",
    "from torch.utils.data import TensorDataset, DataLoader"
   ]
  },
  {
   "cell_type": "markdown",
   "id": "4c6aea26",
   "metadata": {},
   "source": [
    "## Define relevant file names"
   ]
  },
  {
   "cell_type": "code",
   "execution_count": 3,
   "id": "c76b6663",
   "metadata": {},
   "outputs": [],
   "source": [
    "# Define train and test file names.\n",
    "TRAIN_FILE = \"train.csv\"\n",
    "TEST_FILE = \"test.csv\""
   ]
  },
  {
   "cell_type": "markdown",
   "id": "b996e154",
   "metadata": {},
   "source": [
    "## Styles"
   ]
  },
  {
   "cell_type": "code",
   "execution_count": 50,
   "id": "6ad69c75",
   "metadata": {},
   "outputs": [
    {
     "data": {
      "image/png": "[encoded data removed]",
      "text/plain": [
       "<Figure size 360x72 with 1 Axes>"
      ]
     },
     "metadata": {},
     "output_type": "display_data"
    },
    {
     "data": {
      "image/png": "[encoded data removed]",
      "text/plain": [
       "<Figure size 360x72 with 1 Axes>"
      ]
     },
     "metadata": {},
     "output_type": "display_data"
    },
    {
     "data": {
      "image/png": "[encoded data removed]",
      "text/plain": [
       "<Figure size 360x72 with 1 Axes>"
      ]
     },
     "metadata": {},
     "output_type": "display_data"
    }
   ],
   "source": [
    "# Define color palettes.\n",
    "greens = ['#27823b','#339444','#69a761','#94bb83','#bccfb4']\n",
    "darks  = ['#333333','#3f3f3f','#4b4b4b','#585858','#666666']\n",
    "blues  = ['#204671','#265284','#2b5e96','#3169a9','#3675bc']\n",
    "\n",
    "cmap_greens = sns.color_palette(greens)\n",
    "cmap_darks = sns.color_palette(darks)\n",
    "cmap_blues = sns.color_palette(blues)\n",
    "sns.set_palette(cmap_greens)\n",
    "\n",
    "# Show the palettes.\n",
    "sns.palplot(cmap_greens)\n",
    "sns.palplot(cmap_darks)\n",
    "sns.palplot(cmap_blues)"
   ]
  },
  {
   "cell_type": "code",
   "execution_count": 7,
   "id": "a6acef4b",
   "metadata": {},
   "outputs": [],
   "source": [
    "# Set style for the figures.\n",
    "sns.set_style('white')\n",
    "plt.rcParams['font.family'] = 'monospace'"
   ]
  },
  {
   "cell_type": "markdown",
   "id": "be32998b",
   "metadata": {},
   "source": [
    "### Load BERT tokenizer and test it"
   ]
  },
  {
   "cell_type": "code",
   "execution_count": 8,
   "id": "faecd12e",
   "metadata": {},
   "outputs": [
    {
     "data": {
      "application/vnd.jupyter.widget-view+json": {
       "model_id": "b61d92c52fdf4f41916c98e891c9abab",
       "version_major": 2,
       "version_minor": 0
      },
      "text/plain": [
       "Downloading:   0%|          | 0.00/226k [00:00<?, ?B/s]"
      ]
     },
     "metadata": {},
     "output_type": "display_data"
    },
    {
     "data": {
      "application/vnd.jupyter.widget-view+json": {
       "model_id": "81abf44f044f4fd0b5f50fe775c58112",
       "version_major": 2,
       "version_minor": 0
      },
      "text/plain": [
       "Downloading:   0%|          | 0.00/28.0 [00:00<?, ?B/s]"
      ]
     },
     "metadata": {},
     "output_type": "display_data"
    },
    {
     "data": {
      "application/vnd.jupyter.widget-view+json": {
       "model_id": "ecf81303161a4876a9788fb1ef8c43b1",
       "version_major": 2,
       "version_minor": 0
      },
      "text/plain": [
       "Downloading:   0%|          | 0.00/455k [00:00<?, ?B/s]"
      ]
     },
     "metadata": {},
     "output_type": "display_data"
    },
    {
     "data": {
      "application/vnd.jupyter.widget-view+json": {
       "model_id": "7d45391f00a246c2bf26abf2541e46ac",
       "version_major": 2,
       "version_minor": 0
      },
      "text/plain": [
       "Downloading:   0%|          | 0.00/570 [00:00<?, ?B/s]"
      ]
     },
     "metadata": {},
     "output_type": "display_data"
    }
   ],
   "source": [
    "# Load pre-trained model tokenizer (vocabulary)\n",
    "tokenizer = BertTokenizer.from_pretrained('bert-base-uncased')"
   ]
  },
  {
   "cell_type": "code",
   "execution_count": 8,
   "id": "ba7168b6",
   "metadata": {},
   "outputs": [
    {
     "name": "stdout",
     "output_type": "stream",
     "text": [
      "['[CLS]', 'it', 'is', 'raining', 'somewhere', 'else', '.', '[SEP]']\n"
     ]
    }
   ],
   "source": [
    "# Sample to test things.\n",
    "sample = 'It is raining somewhere else.'\n",
    "\n",
    "# Test BERT tokenizer.\n",
    "marked_text = \"[CLS] \" + sample + \" [SEP]\"\n",
    "\n",
    "# Tokenize our sentence with the BERT tokenizer.\n",
    "tokenized_text = tokenizer.tokenize(marked_text)\n",
    "\n",
    "# Print out the tokens.\n",
    "print (tokenized_text)"
   ]
  },
  {
   "cell_type": "code",
   "execution_count": 9,
   "id": "e015464b",
   "metadata": {},
   "outputs": [],
   "source": [
    "# Define a method to obtain the vocab IDs of the tokenized sentence and the segment IDs vector of the sentence.\n",
    "def tokenize_and_segment(sentence, preprocess=False):\n",
    "    if preprocess:\n",
    "        sentence = ''.join([c for c in sentence if c not in punctuation]).lower()\n",
    "    marked_text = \"[CLS] \" + sentence + \" [SEP]\"\n",
    "    tokenized_text = tokenizer.tokenize(marked_text)\n",
    "    indexed_tokens = tokenizer.convert_tokens_to_ids(tokenized_text)\n",
    "    segments_ids = [1] * len(tokenized_text) # A vector of 1s.\n",
    "    return indexed_tokens, segments_ids"
   ]
  },
  {
   "cell_type": "code",
   "execution_count": 10,
   "id": "ff193661",
   "metadata": {},
   "outputs": [
    {
     "name": "stdout",
     "output_type": "stream",
     "text": [
      "Tokenized sentence:\n",
      " [101, 2009, 2003, 24057, 4873, 2842, 102]\n",
      "\n",
      "Segment IDs vector:\n",
      " [1, 1, 1, 1, 1, 1, 1]\n"
     ]
    }
   ],
   "source": [
    "# Test the method.\n",
    "indexed_tokens, segments_ids = tokenize_and_segment(sample, preprocess=True)\n",
    "print('Tokenized sentence:\\n',indexed_tokens)\n",
    "print('\\nSegment IDs vector:\\n',segments_ids)"
   ]
  },
  {
   "cell_type": "markdown",
   "id": "456f576c",
   "metadata": {},
   "source": [
    "Why do we need Segment IDs? The post https://mccormickml.com/2019/05/14/BERT-word-embeddings-tutorial/#what-is-bert explains everything smoothly. Most of the BERT-related tasks of this notebook are based on that tutorial."
   ]
  },
  {
   "cell_type": "markdown",
   "id": "f4ead104",
   "metadata": {},
   "source": [
    "### Load pre-trained BERT and use it"
   ]
  },
  {
   "cell_type": "code",
   "execution_count": 11,
   "id": "ff30f08a",
   "metadata": {},
   "outputs": [
    {
     "data": {
      "application/vnd.jupyter.widget-view+json": {
       "model_id": "5d10c0a045a041e5b9aa4ec5d61f1f07",
       "version_major": 2,
       "version_minor": 0
      },
      "text/plain": [
       "Downloading:   0%|          | 0.00/420M [00:00<?, ?B/s]"
      ]
     },
     "metadata": {},
     "output_type": "display_data"
    },
    {
     "name": "stderr",
     "output_type": "stream",
     "text": [
      "Some weights of the model checkpoint at bert-base-uncased were not used when initializing BertModel: ['cls.seq_relationship.weight', 'cls.predictions.transform.dense.weight', 'cls.predictions.transform.LayerNorm.bias', 'cls.predictions.bias', 'cls.predictions.decoder.weight', 'cls.seq_relationship.bias', 'cls.predictions.transform.LayerNorm.weight', 'cls.predictions.transform.dense.bias']\n",
      "- This IS expected if you are initializing BertModel from the checkpoint of a model trained on another task or with another architecture (e.g. initializing a BertForSequenceClassification model from a BertForPreTraining model).\n",
      "- This IS NOT expected if you are initializing BertModel from the checkpoint of a model that you expect to be exactly identical (initializing a BertForSequenceClassification model from a BertForSequenceClassification model).\n"
     ]
    },
    {
     "data": {
      "text/plain": [
       "BertModel(\n",
       "  (embeddings): BertEmbeddings(\n",
       "    (word_embeddings): Embedding(30522, 768, padding_idx=0)\n",
       "    (position_embeddings): Embedding(512, 768)\n",
       "    (token_type_embeddings): Embedding(2, 768)\n",
       "    (LayerNorm): LayerNorm((768,), eps=1e-12, elementwise_affine=True)\n",
       "    (dropout): Dropout(p=0.1, inplace=False)\n",
       "  )\n",
       "  (encoder): BertEncoder(\n",
       "    (layer): ModuleList(\n",
       "      (0): BertLayer(\n",
       "        (attention): BertAttention(\n",
       "          (self): BertSelfAttention(\n",
       "            (query): Linear(in_features=768, out_features=768, bias=True)\n",
       "            (key): Linear(in_features=768, out_features=768, bias=True)\n",
       "            (value): Linear(in_features=768, out_features=768, bias=True)\n",
       "            (dropout): Dropout(p=0.1, inplace=False)\n",
       "          )\n",
       "          (output): BertSelfOutput(\n",
       "            (dense): Linear(in_features=768, out_features=768, bias=True)\n",
       "            (LayerNorm): LayerNorm((768,), eps=1e-12, elementwise_affine=True)\n",
       "            (dropout): Dropout(p=0.1, inplace=False)\n",
       "          )\n",
       "        )\n",
       "        (intermediate): BertIntermediate(\n",
       "          (dense): Linear(in_features=768, out_features=3072, bias=True)\n",
       "        )\n",
       "        (output): BertOutput(\n",
       "          (dense): Linear(in_features=3072, out_features=768, bias=True)\n",
       "          (LayerNorm): LayerNorm((768,), eps=1e-12, elementwise_affine=True)\n",
       "          (dropout): Dropout(p=0.1, inplace=False)\n",
       "        )\n",
       "      )\n",
       "      (1): BertLayer(\n",
       "        (attention): BertAttention(\n",
       "          (self): BertSelfAttention(\n",
       "            (query): Linear(in_features=768, out_features=768, bias=True)\n",
       "            (key): Linear(in_features=768, out_features=768, bias=True)\n",
       "            (value): Linear(in_features=768, out_features=768, bias=True)\n",
       "            (dropout): Dropout(p=0.1, inplace=False)\n",
       "          )\n",
       "          (output): BertSelfOutput(\n",
       "            (dense): Linear(in_features=768, out_features=768, bias=True)\n",
       "            (LayerNorm): LayerNorm((768,), eps=1e-12, elementwise_affine=True)\n",
       "            (dropout): Dropout(p=0.1, inplace=False)\n",
       "          )\n",
       "        )\n",
       "        (intermediate): BertIntermediate(\n",
       "          (dense): Linear(in_features=768, out_features=3072, bias=True)\n",
       "        )\n",
       "        (output): BertOutput(\n",
       "          (dense): Linear(in_features=3072, out_features=768, bias=True)\n",
       "          (LayerNorm): LayerNorm((768,), eps=1e-12, elementwise_affine=True)\n",
       "          (dropout): Dropout(p=0.1, inplace=False)\n",
       "        )\n",
       "      )\n",
       "      (2): BertLayer(\n",
       "        (attention): BertAttention(\n",
       "          (self): BertSelfAttention(\n",
       "            (query): Linear(in_features=768, out_features=768, bias=True)\n",
       "            (key): Linear(in_features=768, out_features=768, bias=True)\n",
       "            (value): Linear(in_features=768, out_features=768, bias=True)\n",
       "            (dropout): Dropout(p=0.1, inplace=False)\n",
       "          )\n",
       "          (output): BertSelfOutput(\n",
       "            (dense): Linear(in_features=768, out_features=768, bias=True)\n",
       "            (LayerNorm): LayerNorm((768,), eps=1e-12, elementwise_affine=True)\n",
       "            (dropout): Dropout(p=0.1, inplace=False)\n",
       "          )\n",
       "        )\n",
       "        (intermediate): BertIntermediate(\n",
       "          (dense): Linear(in_features=768, out_features=3072, bias=True)\n",
       "        )\n",
       "        (output): BertOutput(\n",
       "          (dense): Linear(in_features=3072, out_features=768, bias=True)\n",
       "          (LayerNorm): LayerNorm((768,), eps=1e-12, elementwise_affine=True)\n",
       "          (dropout): Dropout(p=0.1, inplace=False)\n",
       "        )\n",
       "      )\n",
       "      (3): BertLayer(\n",
       "        (attention): BertAttention(\n",
       "          (self): BertSelfAttention(\n",
       "            (query): Linear(in_features=768, out_features=768, bias=True)\n",
       "            (key): Linear(in_features=768, out_features=768, bias=True)\n",
       "            (value): Linear(in_features=768, out_features=768, bias=True)\n",
       "            (dropout): Dropout(p=0.1, inplace=False)\n",
       "          )\n",
       "          (output): BertSelfOutput(\n",
       "            (dense): Linear(in_features=768, out_features=768, bias=True)\n",
       "            (LayerNorm): LayerNorm((768,), eps=1e-12, elementwise_affine=True)\n",
       "            (dropout): Dropout(p=0.1, inplace=False)\n",
       "          )\n",
       "        )\n",
       "        (intermediate): BertIntermediate(\n",
       "          (dense): Linear(in_features=768, out_features=3072, bias=True)\n",
       "        )\n",
       "        (output): BertOutput(\n",
       "          (dense): Linear(in_features=3072, out_features=768, bias=True)\n",
       "          (LayerNorm): LayerNorm((768,), eps=1e-12, elementwise_affine=True)\n",
       "          (dropout): Dropout(p=0.1, inplace=False)\n",
       "        )\n",
       "      )\n",
       "      (4): BertLayer(\n",
       "        (attention): BertAttention(\n",
       "          (self): BertSelfAttention(\n",
       "            (query): Linear(in_features=768, out_features=768, bias=True)\n",
       "            (key): Linear(in_features=768, out_features=768, bias=True)\n",
       "            (value): Linear(in_features=768, out_features=768, bias=True)\n",
       "            (dropout): Dropout(p=0.1, inplace=False)\n",
       "          )\n",
       "          (output): BertSelfOutput(\n",
       "            (dense): Linear(in_features=768, out_features=768, bias=True)\n",
       "            (LayerNorm): LayerNorm((768,), eps=1e-12, elementwise_affine=True)\n",
       "            (dropout): Dropout(p=0.1, inplace=False)\n",
       "          )\n",
       "        )\n",
       "        (intermediate): BertIntermediate(\n",
       "          (dense): Linear(in_features=768, out_features=3072, bias=True)\n",
       "        )\n",
       "        (output): BertOutput(\n",
       "          (dense): Linear(in_features=3072, out_features=768, bias=True)\n",
       "          (LayerNorm): LayerNorm((768,), eps=1e-12, elementwise_affine=True)\n",
       "          (dropout): Dropout(p=0.1, inplace=False)\n",
       "        )\n",
       "      )\n",
       "      (5): BertLayer(\n",
       "        (attention): BertAttention(\n",
       "          (self): BertSelfAttention(\n",
       "            (query): Linear(in_features=768, out_features=768, bias=True)\n",
       "            (key): Linear(in_features=768, out_features=768, bias=True)\n",
       "            (value): Linear(in_features=768, out_features=768, bias=True)\n",
       "            (dropout): Dropout(p=0.1, inplace=False)\n",
       "          )\n",
       "          (output): BertSelfOutput(\n",
       "            (dense): Linear(in_features=768, out_features=768, bias=True)\n",
       "            (LayerNorm): LayerNorm((768,), eps=1e-12, elementwise_affine=True)\n",
       "            (dropout): Dropout(p=0.1, inplace=False)\n",
       "          )\n",
       "        )\n",
       "        (intermediate): BertIntermediate(\n",
       "          (dense): Linear(in_features=768, out_features=3072, bias=True)\n",
       "        )\n",
       "        (output): BertOutput(\n",
       "          (dense): Linear(in_features=3072, out_features=768, bias=True)\n",
       "          (LayerNorm): LayerNorm((768,), eps=1e-12, elementwise_affine=True)\n",
       "          (dropout): Dropout(p=0.1, inplace=False)\n",
       "        )\n",
       "      )\n",
       "      (6): BertLayer(\n",
       "        (attention): BertAttention(\n",
       "          (self): BertSelfAttention(\n",
       "            (query): Linear(in_features=768, out_features=768, bias=True)\n",
       "            (key): Linear(in_features=768, out_features=768, bias=True)\n",
       "            (value): Linear(in_features=768, out_features=768, bias=True)\n",
       "            (dropout): Dropout(p=0.1, inplace=False)\n",
       "          )\n",
       "          (output): BertSelfOutput(\n",
       "            (dense): Linear(in_features=768, out_features=768, bias=True)\n",
       "            (LayerNorm): LayerNorm((768,), eps=1e-12, elementwise_affine=True)\n",
       "            (dropout): Dropout(p=0.1, inplace=False)\n",
       "          )\n",
       "        )\n",
       "        (intermediate): BertIntermediate(\n",
       "          (dense): Linear(in_features=768, out_features=3072, bias=True)\n",
       "        )\n",
       "        (output): BertOutput(\n",
       "          (dense): Linear(in_features=3072, out_features=768, bias=True)\n",
       "          (LayerNorm): LayerNorm((768,), eps=1e-12, elementwise_affine=True)\n",
       "          (dropout): Dropout(p=0.1, inplace=False)\n",
       "        )\n",
       "      )\n",
       "      (7): BertLayer(\n",
       "        (attention): BertAttention(\n",
       "          (self): BertSelfAttention(\n",
       "            (query): Linear(in_features=768, out_features=768, bias=True)\n",
       "            (key): Linear(in_features=768, out_features=768, bias=True)\n",
       "            (value): Linear(in_features=768, out_features=768, bias=True)\n",
       "            (dropout): Dropout(p=0.1, inplace=False)\n",
       "          )\n",
       "          (output): BertSelfOutput(\n",
       "            (dense): Linear(in_features=768, out_features=768, bias=True)\n",
       "            (LayerNorm): LayerNorm((768,), eps=1e-12, elementwise_affine=True)\n",
       "            (dropout): Dropout(p=0.1, inplace=False)\n",
       "          )\n",
       "        )\n",
       "        (intermediate): BertIntermediate(\n",
       "          (dense): Linear(in_features=768, out_features=3072, bias=True)\n",
       "        )\n",
       "        (output): BertOutput(\n",
       "          (dense): Linear(in_features=3072, out_features=768, bias=True)\n",
       "          (LayerNorm): LayerNorm((768,), eps=1e-12, elementwise_affine=True)\n",
       "          (dropout): Dropout(p=0.1, inplace=False)\n",
       "        )\n",
       "      )\n",
       "      (8): BertLayer(\n",
       "        (attention): BertAttention(\n",
       "          (self): BertSelfAttention(\n",
       "            (query): Linear(in_features=768, out_features=768, bias=True)\n",
       "            (key): Linear(in_features=768, out_features=768, bias=True)\n",
       "            (value): Linear(in_features=768, out_features=768, bias=True)\n",
       "            (dropout): Dropout(p=0.1, inplace=False)\n",
       "          )\n",
       "          (output): BertSelfOutput(\n",
       "            (dense): Linear(in_features=768, out_features=768, bias=True)\n",
       "            (LayerNorm): LayerNorm((768,), eps=1e-12, elementwise_affine=True)\n",
       "            (dropout): Dropout(p=0.1, inplace=False)\n",
       "          )\n",
       "        )\n",
       "        (intermediate): BertIntermediate(\n",
       "          (dense): Linear(in_features=768, out_features=3072, bias=True)\n",
       "        )\n",
       "        (output): BertOutput(\n",
       "          (dense): Linear(in_features=3072, out_features=768, bias=True)\n",
       "          (LayerNorm): LayerNorm((768,), eps=1e-12, elementwise_affine=True)\n",
       "          (dropout): Dropout(p=0.1, inplace=False)\n",
       "        )\n",
       "      )\n",
       "      (9): BertLayer(\n",
       "        (attention): BertAttention(\n",
       "          (self): BertSelfAttention(\n",
       "            (query): Linear(in_features=768, out_features=768, bias=True)\n",
       "            (key): Linear(in_features=768, out_features=768, bias=True)\n",
       "            (value): Linear(in_features=768, out_features=768, bias=True)\n",
       "            (dropout): Dropout(p=0.1, inplace=False)\n",
       "          )\n",
       "          (output): BertSelfOutput(\n",
       "            (dense): Linear(in_features=768, out_features=768, bias=True)\n",
       "            (LayerNorm): LayerNorm((768,), eps=1e-12, elementwise_affine=True)\n",
       "            (dropout): Dropout(p=0.1, inplace=False)\n",
       "          )\n",
       "        )\n",
       "        (intermediate): BertIntermediate(\n",
       "          (dense): Linear(in_features=768, out_features=3072, bias=True)\n",
       "        )\n",
       "        (output): BertOutput(\n",
       "          (dense): Linear(in_features=3072, out_features=768, bias=True)\n",
       "          (LayerNorm): LayerNorm((768,), eps=1e-12, elementwise_affine=True)\n",
       "          (dropout): Dropout(p=0.1, inplace=False)\n",
       "        )\n",
       "      )\n",
       "      (10): BertLayer(\n",
       "        (attention): BertAttention(\n",
       "          (self): BertSelfAttention(\n",
       "            (query): Linear(in_features=768, out_features=768, bias=True)\n",
       "            (key): Linear(in_features=768, out_features=768, bias=True)\n",
       "            (value): Linear(in_features=768, out_features=768, bias=True)\n",
       "            (dropout): Dropout(p=0.1, inplace=False)\n",
       "          )\n",
       "          (output): BertSelfOutput(\n",
       "            (dense): Linear(in_features=768, out_features=768, bias=True)\n",
       "            (LayerNorm): LayerNorm((768,), eps=1e-12, elementwise_affine=True)\n",
       "            (dropout): Dropout(p=0.1, inplace=False)\n",
       "          )\n",
       "        )\n",
       "        (intermediate): BertIntermediate(\n",
       "          (dense): Linear(in_features=768, out_features=3072, bias=True)\n",
       "        )\n",
       "        (output): BertOutput(\n",
       "          (dense): Linear(in_features=3072, out_features=768, bias=True)\n",
       "          (LayerNorm): LayerNorm((768,), eps=1e-12, elementwise_affine=True)\n",
       "          (dropout): Dropout(p=0.1, inplace=False)\n",
       "        )\n",
       "      )\n",
       "      (11): BertLayer(\n",
       "        (attention): BertAttention(\n",
       "          (self): BertSelfAttention(\n",
       "            (query): Linear(in_features=768, out_features=768, bias=True)\n",
       "            (key): Linear(in_features=768, out_features=768, bias=True)\n",
       "            (value): Linear(in_features=768, out_features=768, bias=True)\n",
       "            (dropout): Dropout(p=0.1, inplace=False)\n",
       "          )\n",
       "          (output): BertSelfOutput(\n",
       "            (dense): Linear(in_features=768, out_features=768, bias=True)\n",
       "            (LayerNorm): LayerNorm((768,), eps=1e-12, elementwise_affine=True)\n",
       "            (dropout): Dropout(p=0.1, inplace=False)\n",
       "          )\n",
       "        )\n",
       "        (intermediate): BertIntermediate(\n",
       "          (dense): Linear(in_features=768, out_features=3072, bias=True)\n",
       "        )\n",
       "        (output): BertOutput(\n",
       "          (dense): Linear(in_features=3072, out_features=768, bias=True)\n",
       "          (LayerNorm): LayerNorm((768,), eps=1e-12, elementwise_affine=True)\n",
       "          (dropout): Dropout(p=0.1, inplace=False)\n",
       "        )\n",
       "      )\n",
       "    )\n",
       "  )\n",
       "  (pooler): BertPooler(\n",
       "    (dense): Linear(in_features=768, out_features=768, bias=True)\n",
       "    (activation): Tanh()\n",
       "  )\n",
       ")"
      ]
     },
     "execution_count": 11,
     "metadata": {},
     "output_type": "execute_result"
    }
   ],
   "source": [
    "# Load pre-trained model (weights)\n",
    "bert_model = BertModel.from_pretrained('bert-base-uncased', output_hidden_states=True)\n",
    "\n",
    "# Put the model in \"evaluation\" mode, meaning feed-forward operation.\n",
    "bert_model.eval()"
   ]
  },
  {
   "cell_type": "code",
   "execution_count": 12,
   "id": "c7c5caf6",
   "metadata": {},
   "outputs": [],
   "source": [
    "# Method to apply the BERT model on one sentence composed of indexes of tokens and segments.\n",
    "def get_hidden_states(bert_model, idx_tokens, idx_segments):\n",
    "    tokens_tensor   = torch.tensor([idx_tokens])\n",
    "    segments_tensor = torch.tensor([idx_segments])\n",
    "    with torch.no_grad():\n",
    "        outputs = bert_model(tokens_tensor, segments_tensor)\n",
    "    hidden_states = torch.stack(outputs.hidden_states, dim=0) \n",
    "    return hidden_states # Output shape: [layers, batches, seq_len, features]"
   ]
  },
  {
   "cell_type": "code",
   "execution_count": 13,
   "id": "3a59e84b",
   "metadata": {},
   "outputs": [
    {
     "name": "stdout",
     "output_type": "stream",
     "text": [
      "Shape of BERT hidden states:  torch.Size([13, 1, 7, 768])\n",
      "Num of layers:  13\n",
      "Num batches:  1\n",
      "Sequence length:  7\n",
      "Num of hidden units:  768\n"
     ]
    }
   ],
   "source": [
    "# Apply BERT and analyse the hidden_states.\n",
    "hidden_bert = get_hidden_states(bert_model, indexed_tokens, segments_ids)\n",
    "print('Shape of BERT hidden states: ', hidden_bert.shape)\n",
    "print('Num of layers: ', hidden_bert.shape[0])\n",
    "print('Num batches: ', hidden_bert.shape[1])\n",
    "print('Sequence length: ', hidden_bert.shape[2])\n",
    "print('Num of hidden units: ', hidden_bert.shape[3])"
   ]
  },
  {
   "cell_type": "markdown",
   "id": "818277c4",
   "metadata": {},
   "source": [
    "### Sentence Embeddings"
   ]
  },
  {
   "cell_type": "code",
   "execution_count": 14,
   "id": "90f160a2",
   "metadata": {},
   "outputs": [],
   "source": [
    "# Average the last N layers (last_layers) of each token producing a single N-length vector.\n",
    "def create_sentence_embeddings(hidden_states, layer_idx=-2):\n",
    "    \n",
    "    '''\n",
    "    Parameters\n",
    "        hidden_states: output from the BERT model.\n",
    "        layer_idx: the layer to be used for obtaining the features (default=second to last layer).\n",
    "    '''\n",
    "    \n",
    "    # Remove the batch dim, since we work with individual sentences.\n",
    "    token_embeddings = torch.squeeze(hidden_states, dim=1) # Output shape: [layers, seq_len, features]\n",
    "    \n",
    "    # Swap dimensions 0 and 1.\n",
    "    token_embeddings = token_embeddings.permute(1,0,2) # Output shape: [seq_len, layers, features]\n",
    "    \n",
    "    # Obtain average of features from all tokens.\n",
    "    sentence_embeddings = torch.mean(hidden_states[layer_idx][0], dim=0)\n",
    "    \n",
    "    # Return embeddings.\n",
    "    return sentence_embeddings"
   ]
  },
  {
   "cell_type": "code",
   "execution_count": 15,
   "id": "fb2cc129",
   "metadata": {},
   "outputs": [
    {
     "name": "stdout",
     "output_type": "stream",
     "text": [
      "torch.Size([768])\n"
     ]
    }
   ],
   "source": [
    "feature_vector = create_sentence_embeddings(hidden_bert)\n",
    "print(feature_vector.shape)"
   ]
  },
  {
   "cell_type": "markdown",
   "id": "d1cd721b",
   "metadata": {},
   "source": [
    "## Extracting features\n",
    "Use the `create_sentence_embeddings` function as feature extractor."
   ]
  },
  {
   "cell_type": "code",
   "execution_count": 16,
   "id": "d226f62a",
   "metadata": {},
   "outputs": [],
   "source": [
    "def bert_feature_extractor(sentences, bert_model, preprocess=False, as_numpy=False, layer_idx=-2):\n",
    "    \n",
    "    '''\n",
    "    Parameters\n",
    "        sentences: list of sentences.\n",
    "        bert_model: pre-trained BERT model.\n",
    "        as_numpy: return tensors as numpy or not. If False, then dataset[i] is a torch tensor.\n",
    "        \n",
    "    Output\n",
    "        dataset: a list with N tensors (torch or numpy) with features, with N=len(sentences).\n",
    "    '''\n",
    "    \n",
    "    # Our dataset.\n",
    "    dataset = []\n",
    "    \n",
    "    # Put the model in \"evaluation\" mode.\n",
    "    bert_model.eval()\n",
    "    \n",
    "    # Go through the sentences and get the features of each.\n",
    "    for sentence in sentences:\n",
    "        idx_tokens, idx_segments = tokenize_and_segment(sentence, preprocess)\n",
    "        hidden_bert = get_hidden_states(bert_model, idx_tokens, idx_segments)\n",
    "        feature_vector = create_sentence_embeddings(hidden_bert, layer_idx)\n",
    "        dataset.append(feature_vector.numpy() if as_numpy else feature_vector)\n",
    "    \n",
    "    # Return features list.\n",
    "    return dataset "
   ]
  },
  {
   "cell_type": "code",
   "execution_count": 17,
   "id": "3923c167",
   "metadata": {},
   "outputs": [
    {
     "name": "stdout",
     "output_type": "stream",
     "text": [
      "2\n",
      "(768,)\n",
      "(768,)\n"
     ]
    }
   ],
   "source": [
    "sentences = ['It is dangerous to go alone, take this.', 'It is raining somewhere else.']\n",
    "dataset = bert_feature_extractor(sentences, bert_model, preprocess=True, as_numpy=True)\n",
    "print(len(dataset))\n",
    "print(dataset[0].shape)\n",
    "print(dataset[1].shape)"
   ]
  },
  {
   "cell_type": "markdown",
   "id": "7ae06d14",
   "metadata": {},
   "source": [
    "## Read dataset"
   ]
  },
  {
   "cell_type": "code",
   "execution_count": 18,
   "id": "f5e1fab2",
   "metadata": {},
   "outputs": [
    {
     "data": {
      "text/html": [
       "<div>\n",
       "<style scoped>\n",
       "    .dataframe tbody tr th:only-of-type {\n",
       "        vertical-align: middle;\n",
       "    }\n",
       "\n",
       "    .dataframe tbody tr th {\n",
       "        vertical-align: top;\n",
       "    }\n",
       "\n",
       "    .dataframe thead th {\n",
       "        text-align: right;\n",
       "    }\n",
       "</style>\n",
       "<table border=\"1\" class=\"dataframe\">\n",
       "  <thead>\n",
       "    <tr style=\"text-align: right;\">\n",
       "      <th></th>\n",
       "      <th>text</th>\n",
       "      <th>target</th>\n",
       "    </tr>\n",
       "  </thead>\n",
       "  <tbody>\n",
       "    <tr>\n",
       "      <th>0</th>\n",
       "      <td>Our Deeds are the Reason of this #earthquake M...</td>\n",
       "      <td>1</td>\n",
       "    </tr>\n",
       "    <tr>\n",
       "      <th>1</th>\n",
       "      <td>Forest fire near La Ronge Sask. Canada</td>\n",
       "      <td>1</td>\n",
       "    </tr>\n",
       "    <tr>\n",
       "      <th>2</th>\n",
       "      <td>All residents asked to 'shelter in place' are ...</td>\n",
       "      <td>1</td>\n",
       "    </tr>\n",
       "    <tr>\n",
       "      <th>3</th>\n",
       "      <td>13,000 people receive #wildfires evacuation or...</td>\n",
       "      <td>1</td>\n",
       "    </tr>\n",
       "    <tr>\n",
       "      <th>4</th>\n",
       "      <td>Just got sent this photo from Ruby #Alaska as ...</td>\n",
       "      <td>1</td>\n",
       "    </tr>\n",
       "  </tbody>\n",
       "</table>\n",
       "</div>"
      ],
      "text/plain": [
       "                                                text  target\n",
       "0  Our Deeds are the Reason of this #earthquake M...       1\n",
       "1             Forest fire near La Ronge Sask. Canada       1\n",
       "2  All residents asked to 'shelter in place' are ...       1\n",
       "3  13,000 people receive #wildfires evacuation or...       1\n",
       "4  Just got sent this photo from Ruby #Alaska as ...       1"
      ]
     },
     "execution_count": 18,
     "metadata": {},
     "output_type": "execute_result"
    }
   ],
   "source": [
    "# Load and see the first rows of the dataset.\n",
    "df = pd.read_csv(TRAIN_FILE, sep=\",\")\n",
    "df = df.drop(columns=['id', 'keyword', 'location'])\n",
    "df.head()"
   ]
  },
  {
   "cell_type": "code",
   "execution_count": null,
   "id": "86dbfb66",
   "metadata": {},
   "outputs": [],
   "source": [
    "df = pd.read_csv(TRAIN_FILE, sep=\",\")\n",
    "df = df.drop(columns=['id', 'keyword', 'location'])\n",
    "df.head()"
   ]
  },
  {
   "cell_type": "markdown",
   "id": "21e213ef",
   "metadata": {},
   "source": [
    "## Exploration"
   ]
  },
  {
   "cell_type": "code",
   "execution_count": 19,
   "id": "3a451980",
   "metadata": {},
   "outputs": [
    {
     "name": "stdout",
     "output_type": "stream",
     "text": [
      "Number of missing values: 0\n"
     ]
    }
   ],
   "source": [
    "# Get the missing values.\n",
    "missing = df.isna().sum()\n",
    "missing = missing.sort_values(ascending=False)\n",
    "missing = missing[missing>0]\n",
    "missing = pd.DataFrame({'Attribute': missing.index, 'Count': missing.values})\n",
    "print('Number of missing values: %d' % len(missing))"
   ]
  },
  {
   "cell_type": "code",
   "execution_count": 20,
   "id": "7616061a",
   "metadata": {},
   "outputs": [
    {
     "data": {
      "image/png": "[encoded data removed]",
      "text/plain": [
       "<Figure size 432x288 with 1 Axes>"
      ]
     },
     "metadata": {},
     "output_type": "display_data"
    }
   ],
   "source": [
    "# Lets get the counts of each class.\n",
    "counts_class = df.target.value_counts()\n",
    "counts_class = pd.DataFrame({'Class': counts_class.index, 'Count': counts_class.values})\n",
    "\n",
    "# Plot class distribution.\n",
    "fig, ax = plt.subplots()\n",
    "plt.title('Class count', fontweight='bold')\n",
    "ax = sns.barplot(data=counts_class, x='Class', y='Count')\n",
    "ax.set_xlabel('')\n",
    "ax.set_ylabel('')\n",
    "ax.spines['right'].set_visible(False) \n",
    "ax.spines['left'].set_visible(False) \n",
    "ax.spines['top'].set_visible(False) \n",
    "ax.spines['bottom'].set_visible(True) \n",
    "\n",
    "for i in range(0, len(counts_class)):\n",
    "    ax.annotate(counts_class['Count'][i], \n",
    "                xy = (i, counts_class['Count'][i] - 500),\n",
    "                va='center', ha='center', color='#ffff')"
   ]
  },
  {
   "cell_type": "markdown",
   "id": "d6a3d206",
   "metadata": {},
   "source": [
    "We can see that there is some degree of class imbalance, and we can tackle this through different approaches. However, since the difference is not that big, we will train the models using the entire dataset without any strategy to treat class imbalance. We will take one thing into account though, we will use F1-Score as metric to define how well our predictors perform instead of raw accuracy."
   ]
  },
  {
   "cell_type": "markdown",
   "id": "4326089a",
   "metadata": {},
   "source": [
    "## Extract BERT Features"
   ]
  },
  {
   "cell_type": "code",
   "execution_count": 25,
   "id": "db087a84",
   "metadata": {},
   "outputs": [
    {
     "name": "stdout",
     "output_type": "stream",
     "text": [
      "X_train shape: (7613, 768)\n",
      "y_train shape: (7613,)\n"
     ]
    }
   ],
   "source": [
    "# Forward the train set to BERT to obtain the feature vectors for each sentence.\n",
    "X_train = bert_feature_extractor(sentences=df['text'], bert_model=bert_model, preprocess=True, as_numpy=True)\n",
    "y_train = df['target'].tolist()\n",
    "X_train = np.asarray(X_train)\n",
    "y_train = np.asarray(y_train)\n",
    "print('X_train shape:', X_train.shape)\n",
    "print('y_train shape:', y_train.shape)"
   ]
  },
  {
   "cell_type": "code",
   "execution_count": 26,
   "id": "04015734",
   "metadata": {},
   "outputs": [
    {
     "name": "stdout",
     "output_type": "stream",
     "text": [
      "X_test shape: (3263, 768)\n"
     ]
    }
   ],
   "source": [
    "# Define a dataframe to contain results and add the predictions.\n",
    "df = pd.read_csv(TEST_FILE, sep=\",\")\n",
    "X_test = bert_feature_extractor(sentences=df['text'], bert_model=bert_model, preprocess=True, as_numpy=True)\n",
    "X_test = np.asarray(X_test)\n",
    "print('X_test shape:', X_test.shape)"
   ]
  },
  {
   "cell_type": "code",
   "execution_count": 27,
   "id": "ac758ff0",
   "metadata": {},
   "outputs": [],
   "source": [
    "# Dump pre-processed train and test sets into numpy files.\n",
    "X_TRAIN_BERT_FILE = 'X_train_bert_feat_preprocessed.npy'\n",
    "Y_TRAIN_BERT_FILE = 'y_train_bert_feat_preprocessed.npy'\n",
    "X_TEST_BERT_FILE  = 'X_test_bert_feat_preprocessed.npy'\n",
    "np.save(X_TRAIN_BERT_FILE, X_train)\n",
    "np.save(Y_TRAIN_BERT_FILE, y_train)\n",
    "np.save(X_TEST_BERT_FILE,  X_test)"
   ]
  },
  {
   "cell_type": "markdown",
   "id": "6734fc59",
   "metadata": {},
   "source": [
    "## Classification\n",
    "Now that we have our train set prepared, let's apply the classifier."
   ]
  },
  {
   "cell_type": "code",
   "execution_count": 9,
   "id": "63790f58",
   "metadata": {},
   "outputs": [],
   "source": [
    "device = torch.device(\"cuda\" if torch.cuda.is_available() else \"cpu\")"
   ]
  },
  {
   "cell_type": "code",
   "execution_count": 10,
   "id": "eeb635b5",
   "metadata": {},
   "outputs": [],
   "source": [
    "# Define the class of the model.\n",
    "class Classifier(nn.Module):\n",
    "    \n",
    "    def __init__(self, num_units, activations, dropout=0.5):\n",
    "        super(Classifier, self).__init__()\n",
    "        \n",
    "        # Check if the number of elements in num_units and activations must be the same.\n",
    "        assert len(num_units) == len(activations)\n",
    "        \n",
    "        # We can also check here if that all elements of num_units are \n",
    "        # two-dimensional, but let's trust the user ok?\n",
    "        \n",
    "        # Actually do the thing.\n",
    "        self.layers      = nn.ModuleList()\n",
    "        self.activations = nn.ModuleList()\n",
    "        self.num_layers  = len(num_units) \n",
    "        for idx in range(self.num_layers): \n",
    "            self.layers.append(nn.Linear(num_units[idx][0], num_units[idx][1])) # Linear layers.\n",
    "            # Activation functions.\n",
    "            if activations[idx] == 'relu':\n",
    "                self.activations.append(nn.ReLU())\n",
    "            elif activations[idx] == 'sigmoid':\n",
    "                self.activations.append(nn.Sigmoid())\n",
    "            elif activations[idx] == 'softmax':\n",
    "                self.activations.append(nn.Softmax(dim=1))\n",
    "            else:\n",
    "                self.activations.append(None)\n",
    "        self.drop_layer = nn.Dropout(p=dropout) # Dropout layer.\n",
    "        self.init_weights() # Init weights.\n",
    "\n",
    "    def init_weights(self):\n",
    "        initrange = 0.5\n",
    "        for idx in range(self.num_layers):\n",
    "            self.layers[idx].weight.data.uniform_(-initrange, initrange)\n",
    "            self.layers[idx].bias.data.zero_()\n",
    "\n",
    "    def forward(self, X, dropout=0.0):\n",
    "        output = X\n",
    "        for idx in range(self.num_layers): # For each layer.\n",
    "            output = self.layers[idx](output) # Linear layers.\n",
    "            if self.activations[idx] != None: # Apply activation function if there is any.\n",
    "                output = self.activations[idx](output)\n",
    "            if idx != self.num_layers - 1: # Apply dropout if it is not the last layer.\n",
    "                output = self.drop_layer(output)\n",
    "        return output"
   ]
  },
  {
   "cell_type": "code",
   "execution_count": 11,
   "id": "d6f35df6",
   "metadata": {},
   "outputs": [],
   "source": [
    "# Function to train the model for each batch.\n",
    "def train(model, optimizer, criterion, dataloader, epoch):\n",
    "    losses = []\n",
    "    total_acc, total_count, total_loss = 0, 0, 0\n",
    "    log_interval = 50\n",
    "    for idx, (x, y) in enumerate(dataloader):\n",
    "        optimizer.zero_grad()\n",
    "        predicted = model(x).view(model(x).shape[0])\n",
    "        loss = criterion(predicted, y)\n",
    "        loss.backward()\n",
    "        torch.nn.utils.clip_grad_norm_(model.parameters(), 0.1) # Gradient clipping.\n",
    "        optimizer.step()\n",
    "        total_acc += (predicted.round() == y).sum().item()\n",
    "        total_loss += loss\n",
    "        total_count += y.size(0)\n",
    "        losses.append((loss / y.size(0)).view(-1).detach().numpy()[0])\n",
    "        if idx % log_interval == 0 and idx > 0:\n",
    "            print('| epoch {:3d} | {:5d}/{:5d} batches | accuracy {:8.3f} | loss {:8.5f}'\n",
    "                  .format(epoch, idx, len(dataloader), total_acc/total_count, total_loss/total_count))\n",
    "            total_acc, total_count, total_loss = 0, 0, 0\n",
    "    return losses # Return a list of the value of the loss at each iteration."
   ]
  },
  {
   "cell_type": "code",
   "execution_count": 12,
   "id": "524cf0af",
   "metadata": {},
   "outputs": [],
   "source": [
    "# Function to forward the model and get the loss.\n",
    "def get_model_loss(model, criterion, dataloader):\n",
    "    model.eval()\n",
    "    total_count, total_loss = 0, 0\n",
    "    with torch.no_grad():\n",
    "        for idx, (x, y) in enumerate(dataloader):\n",
    "            predicted = model(x).view(model(x).shape[0])\n",
    "            loss = criterion(predicted, y)\n",
    "            total_count += y.size(0)\n",
    "            total_loss  += loss.item()\n",
    "    return total_loss/total_count"
   ]
  },
  {
   "cell_type": "markdown",
   "id": "2a83dad7",
   "metadata": {},
   "source": [
    "### Load training data"
   ]
  },
  {
   "cell_type": "code",
   "execution_count": 85,
   "id": "2ea09764",
   "metadata": {},
   "outputs": [],
   "source": [
    "# Load dataset with features extracted with BERT.\n",
    "X_TRAIN_BERT_FILE = 'X_train_bert_feat_preprocessed.npy'\n",
    "Y_TRAIN_BERT_FILE = 'y_train_bert_feat_preprocessed.npy'\n",
    "X = np.load(X_TRAIN_BERT_FILE)\n",
    "y = np.load(Y_TRAIN_BERT_FILE)\n",
    "\n",
    "# Split dataset.\n",
    "X_train, X_val, y_train, y_val = train_test_split(X, y, test_size=0.01, random_state=1, stratify=y)"
   ]
  },
  {
   "cell_type": "code",
   "execution_count": 60,
   "id": "29158422",
   "metadata": {},
   "outputs": [
    {
     "name": "stdout",
     "output_type": "stream",
     "text": [
      "X shape:  (7613, 768)\n",
      "Y shape:  (7613,)\n",
      "X_train shape:  (7232, 768)\n",
      "Y_train shape:  (7232,)\n",
      "X_val shape:  (381, 768)\n",
      "Y_val shape:  (381,)\n",
      "Validation instances of class 0: 217\n",
      "Validation instances of class 1: 164\n"
     ]
    }
   ],
   "source": [
    "# Show shapes of each dataset.\n",
    "print('X shape: ', X.shape)\n",
    "print('Y shape: ', y.shape)\n",
    "print('X_train shape: ', X_train.shape)\n",
    "print('Y_train shape: ', y_train.shape)\n",
    "print('X_val shape: ', X_val.shape)\n",
    "print('Y_val shape: ', y_val.shape)\n",
    "\n",
    "## Show class distributions for the validation set.\n",
    "print('Validation instances of class 0: %d' % np.sum(y_val==0))\n",
    "print('Validation instances of class 1: %d' % np.sum(y_val==1))"
   ]
  },
  {
   "cell_type": "code",
   "execution_count": 86,
   "id": "4b4bb213",
   "metadata": {},
   "outputs": [],
   "source": [
    "# Transform to torch tensors.\n",
    "# Train sets.\n",
    "X_train          = torch.Tensor(X_train)\n",
    "y_train          = torch.Tensor(y_train)\n",
    "train_dataset    = TensorDataset(X_train, y_train)\n",
    "\n",
    "# Validation sets.\n",
    "X_val          = torch.Tensor(X_val)\n",
    "y_val          = torch.Tensor(y_val)\n",
    "val_dataset    = TensorDataset(X_val, y_val)"
   ]
  },
  {
   "cell_type": "code",
   "execution_count": 87,
   "id": "2d5e056a",
   "metadata": {},
   "outputs": [],
   "source": [
    "# Model hyperparameters.\n",
    "BATCH_SIZE    = 64      # Batch size.\n",
    "EPOCHS        = 50      # Epochs.\n",
    "LEARNING_RATE = 0.0005  # Learning rate.\n",
    "DROPOUT       = 0.5     # Dropout.\n",
    "L2_LAMBDA     = 1e-4    # Lambda for L2 Regularization.\n",
    "\n",
    "# Model config.\n",
    "INPUT_SIZE  = 768 # The size of the BERT features.\n",
    "OUTPUT_SIZE = 1   # Binary classification, so the output is only one element.\n",
    "num_units = [[INPUT_SIZE, 512], [512, 256], [256, 128], [128, OUTPUT_SIZE]]\n",
    "activations = ['relu', 'relu', 'relu', 'sigmoid']"
   ]
  },
  {
   "cell_type": "code",
   "execution_count": 88,
   "id": "f46b146c",
   "metadata": {},
   "outputs": [],
   "source": [
    "# Model init.\n",
    "model = Classifier(num_units=num_units, activations=activations).to(device)"
   ]
  },
  {
   "cell_type": "markdown",
   "id": "bbd6b3bc",
   "metadata": {},
   "source": [
    "### Main training loop"
   ]
  },
  {
   "cell_type": "code",
   "execution_count": 89,
   "id": "3bbc8257",
   "metadata": {
    "scrolled": true
   },
   "outputs": [
    {
     "name": "stdout",
     "output_type": "stream",
     "text": [
      "#-------------------- TRAINING MODEL --------------------#\n",
      "EPOCH 1 \n",
      "| epoch   1 |    50/  118 batches | accuracy    0.484 | loss  0.22982\n",
      "| epoch   1 |   100/  118 batches | accuracy    0.490 | loss  0.22602\n",
      "EPOCH 2 \n",
      "| epoch   2 |    50/  118 batches | accuracy    0.702 | loss  0.13173\n",
      "| epoch   2 |   100/  118 batches | accuracy    0.754 | loss  0.09992\n",
      "EPOCH 3 \n",
      "| epoch   3 |    50/  118 batches | accuracy    0.760 | loss  0.09690\n",
      "| epoch   3 |   100/  118 batches | accuracy    0.788 | loss  0.07948\n",
      "EPOCH 4 \n",
      "| epoch   4 |    50/  118 batches | accuracy    0.770 | loss  0.07287\n",
      "| epoch   4 |   100/  118 batches | accuracy    0.793 | loss  0.05135\n",
      "EPOCH 5 \n",
      "| epoch   5 |    50/  118 batches | accuracy    0.774 | loss  0.04519\n",
      "| epoch   5 |   100/  118 batches | accuracy    0.782 | loss  0.03092\n",
      "EPOCH 6 \n",
      "| epoch   6 |    50/  118 batches | accuracy    0.772 | loss  0.02593\n",
      "| epoch   6 |   100/  118 batches | accuracy    0.791 | loss  0.01805\n",
      "EPOCH 7 \n",
      "| epoch   7 |    50/  118 batches | accuracy    0.775 | loss  0.01636\n",
      "| epoch   7 |   100/  118 batches | accuracy    0.787 | loss  0.01311\n",
      "EPOCH 8 \n",
      "| epoch   8 |    50/  118 batches | accuracy    0.777 | loss  0.01188\n",
      "| epoch   8 |   100/  118 batches | accuracy    0.806 | loss  0.00995\n",
      "EPOCH 9 \n",
      "| epoch   9 |    50/  118 batches | accuracy    0.773 | loss  0.01166\n",
      "| epoch   9 |   100/  118 batches | accuracy    0.810 | loss  0.00851\n",
      "EPOCH 10 \n",
      "| epoch  10 |    50/  118 batches | accuracy    0.777 | loss  0.01009\n",
      "| epoch  10 |   100/  118 batches | accuracy    0.823 | loss  0.00709\n",
      "EPOCH 11 \n",
      "| epoch  11 |    50/  118 batches | accuracy    0.797 | loss  0.00815\n",
      "| epoch  11 |   100/  118 batches | accuracy    0.802 | loss  0.00805\n",
      "EPOCH 12 \n",
      "| epoch  12 |    50/  118 batches | accuracy    0.777 | loss  0.00924\n",
      "| epoch  12 |   100/  118 batches | accuracy    0.791 | loss  0.00801\n",
      "EPOCH 13 \n",
      "| epoch  13 |    50/  118 batches | accuracy    0.754 | loss  0.01044\n",
      "| epoch  13 |   100/  118 batches | accuracy    0.828 | loss  0.00626\n",
      "EPOCH 14 \n",
      "| epoch  14 |    50/  118 batches | accuracy    0.789 | loss  0.00847\n",
      "| epoch  14 |   100/  118 batches | accuracy    0.828 | loss  0.00657\n",
      "EPOCH 15 \n",
      "| epoch  15 |    50/  118 batches | accuracy    0.785 | loss  0.00853\n",
      "| epoch  15 |   100/  118 batches | accuracy    0.816 | loss  0.00664\n",
      "EPOCH 16 \n",
      "| epoch  16 |    50/  118 batches | accuracy    0.779 | loss  0.00835\n",
      "| epoch  16 |   100/  118 batches | accuracy    0.805 | loss  0.00671\n",
      "EPOCH 17 \n",
      "| epoch  17 |    50/  118 batches | accuracy    0.768 | loss  0.00899\n",
      "| epoch  17 |   100/  118 batches | accuracy    0.797 | loss  0.00733\n",
      "EPOCH 18 \n",
      "| epoch  18 |    50/  118 batches | accuracy    0.793 | loss  0.00775\n",
      "| epoch  18 |   100/  118 batches | accuracy    0.789 | loss  0.00784\n",
      "EPOCH 19 \n",
      "| epoch  19 |    50/  118 batches | accuracy    0.778 | loss  0.00839\n",
      "| epoch  19 |   100/  118 batches | accuracy    0.787 | loss  0.00717\n",
      "EPOCH 20 \n",
      "| epoch  20 |    50/  118 batches | accuracy    0.774 | loss  0.00787\n",
      "| epoch  20 |   100/  118 batches | accuracy    0.804 | loss  0.00719\n",
      "EPOCH 21 \n",
      "| epoch  21 |    50/  118 batches | accuracy    0.809 | loss  0.00690\n",
      "| epoch  21 |   100/  118 batches | accuracy    0.819 | loss  0.00618\n",
      "EPOCH 22 \n",
      "| epoch  22 |    50/  118 batches | accuracy    0.787 | loss  0.00779\n",
      "| epoch  22 |   100/  118 batches | accuracy    0.831 | loss  0.00624\n",
      "EPOCH 23 \n",
      "| epoch  23 |    50/  118 batches | accuracy    0.762 | loss  0.00854\n",
      "| epoch  23 |   100/  118 batches | accuracy    0.784 | loss  0.00729\n",
      "EPOCH 24 \n",
      "| epoch  24 |    50/  118 batches | accuracy    0.782 | loss  0.00737\n",
      "| epoch  24 |   100/  118 batches | accuracy    0.813 | loss  0.00683\n",
      "EPOCH 25 \n",
      "| epoch  25 |    50/  118 batches | accuracy    0.787 | loss  0.00802\n",
      "| epoch  25 |   100/  118 batches | accuracy    0.804 | loss  0.00693\n",
      "EPOCH 26 \n",
      "| epoch  26 |    50/  118 batches | accuracy    0.795 | loss  0.00727\n",
      "| epoch  26 |   100/  118 batches | accuracy    0.831 | loss  0.00607\n",
      "EPOCH 27 \n",
      "| epoch  27 |    50/  118 batches | accuracy    0.796 | loss  0.00703\n",
      "| epoch  27 |   100/  118 batches | accuracy    0.827 | loss  0.00625\n",
      "EPOCH 28 \n",
      "| epoch  28 |    50/  118 batches | accuracy    0.770 | loss  0.00779\n",
      "| epoch  28 |   100/  118 batches | accuracy    0.786 | loss  0.00768\n",
      "EPOCH 29 \n",
      "| epoch  29 |    50/  118 batches | accuracy    0.812 | loss  0.00673\n",
      "| epoch  29 |   100/  118 batches | accuracy    0.829 | loss  0.00614\n",
      "EPOCH 30 \n",
      "| epoch  30 |    50/  118 batches | accuracy    0.812 | loss  0.00648\n",
      "| epoch  30 |   100/  118 batches | accuracy    0.833 | loss  0.00604\n",
      "EPOCH 31 \n",
      "| epoch  31 |    50/  118 batches | accuracy    0.766 | loss  0.00820\n",
      "| epoch  31 |   100/  118 batches | accuracy    0.850 | loss  0.00555\n",
      "EPOCH 32 \n",
      "| epoch  32 |    50/  118 batches | accuracy    0.819 | loss  0.00653\n",
      "| epoch  32 |   100/  118 batches | accuracy    0.847 | loss  0.00572\n",
      "EPOCH 33 \n",
      "| epoch  33 |    50/  118 batches | accuracy    0.827 | loss  0.00627\n",
      "| epoch  33 |   100/  118 batches | accuracy    0.850 | loss  0.00553\n",
      "EPOCH 34 \n",
      "| epoch  34 |    50/  118 batches | accuracy    0.801 | loss  0.00720\n",
      "| epoch  34 |   100/  118 batches | accuracy    0.843 | loss  0.00586\n",
      "EPOCH 35 \n",
      "| epoch  35 |    50/  118 batches | accuracy    0.820 | loss  0.00629\n",
      "| epoch  35 |   100/  118 batches | accuracy    0.860 | loss  0.00517\n",
      "EPOCH 36 \n",
      "| epoch  36 |    50/  118 batches | accuracy    0.822 | loss  0.00622\n",
      "| epoch  36 |   100/  118 batches | accuracy    0.862 | loss  0.00515\n",
      "EPOCH 37 \n",
      "| epoch  37 |    50/  118 batches | accuracy    0.819 | loss  0.00631\n",
      "| epoch  37 |   100/  118 batches | accuracy    0.855 | loss  0.00538\n",
      "EPOCH 38 \n",
      "| epoch  38 |    50/  118 batches | accuracy    0.824 | loss  0.00623\n",
      "| epoch  38 |   100/  118 batches | accuracy    0.845 | loss  0.00577\n",
      "EPOCH 39 \n",
      "| epoch  39 |    50/  118 batches | accuracy    0.820 | loss  0.00632\n",
      "| epoch  39 |   100/  118 batches | accuracy    0.861 | loss  0.00511\n",
      "EPOCH 40 \n",
      "| epoch  40 |    50/  118 batches | accuracy    0.822 | loss  0.00655\n",
      "| epoch  40 |   100/  118 batches | accuracy    0.808 | loss  0.00693\n",
      "EPOCH 41 \n",
      "| epoch  41 |    50/  118 batches | accuracy    0.842 | loss  0.00558\n",
      "| epoch  41 |   100/  118 batches | accuracy    0.867 | loss  0.00498\n",
      "EPOCH 42 \n",
      "| epoch  42 |    50/  118 batches | accuracy    0.838 | loss  0.00582\n",
      "| epoch  42 |   100/  118 batches | accuracy    0.870 | loss  0.00490\n",
      "EPOCH 43 \n",
      "| epoch  43 |    50/  118 batches | accuracy    0.834 | loss  0.00608\n",
      "| epoch  43 |   100/  118 batches | accuracy    0.853 | loss  0.00521\n",
      "EPOCH 44 \n",
      "| epoch  44 |    50/  118 batches | accuracy    0.845 | loss  0.00552\n",
      "| epoch  44 |   100/  118 batches | accuracy    0.886 | loss  0.00445\n",
      "EPOCH 45 \n",
      "| epoch  45 |    50/  118 batches | accuracy    0.848 | loss  0.00545\n",
      "| epoch  45 |   100/  118 batches | accuracy    0.882 | loss  0.00449\n",
      "EPOCH 46 \n",
      "| epoch  46 |    50/  118 batches | accuracy    0.868 | loss  0.00492\n",
      "| epoch  46 |   100/  118 batches | accuracy    0.883 | loss  0.00433\n",
      "EPOCH 47 \n",
      "| epoch  47 |    50/  118 batches | accuracy    0.872 | loss  0.00476\n",
      "| epoch  47 |   100/  118 batches | accuracy    0.895 | loss  0.00410\n",
      "EPOCH 48 \n",
      "| epoch  48 |    50/  118 batches | accuracy    0.874 | loss  0.00473\n",
      "| epoch  48 |   100/  118 batches | accuracy    0.873 | loss  0.00466\n",
      "EPOCH 49 \n",
      "| epoch  49 |    50/  118 batches | accuracy    0.871 | loss  0.00477\n",
      "| epoch  49 |   100/  118 batches | accuracy    0.903 | loss  0.00376\n",
      "EPOCH 50 \n",
      "| epoch  50 |    50/  118 batches | accuracy    0.877 | loss  0.00462\n",
      "| epoch  50 |   100/  118 batches | accuracy    0.892 | loss  0.00416\n"
     ]
    }
   ],
   "source": [
    "# Set up dataloaders.\n",
    "train_dataloader = DataLoader(train_dataset, batch_size=BATCH_SIZE)\n",
    "val_dataloader = DataLoader(val_dataset, batch_size=BATCH_SIZE)\n",
    "\n",
    "# Define loss function and optimizer.\n",
    "criterion = torch.nn.BCELoss()\n",
    "optimizer = torch.optim.Adam(model.parameters(), lr=LEARNING_RATE, weight_decay=L2_LAMBDA)\n",
    "\n",
    "# Train the network.\n",
    "train_losses_per_epoch = []\n",
    "val_losses_per_epoch   = []\n",
    "model.train()\n",
    "print('#' + '-' * 20 + ' TRAINING MODEL ' + '-' * 20 + '#')\n",
    "for epoch in range(1, EPOCHS + 1):\n",
    "    print('EPOCH %d ' % epoch)\n",
    "    train_loss = train(model, optimizer, criterion, train_dataloader, epoch)\n",
    "    val_loss   = get_model_loss(model, criterion, val_dataloader)\n",
    "    train_losses_per_epoch.append(train_loss)\n",
    "    val_losses_per_epoch.append(val_loss)"
   ]
  },
  {
   "cell_type": "markdown",
   "id": "6478c1f8",
   "metadata": {},
   "source": [
    "Evolution of the loss during training."
   ]
  },
  {
   "cell_type": "code",
   "execution_count": 90,
   "id": "0a43cbfe",
   "metadata": {},
   "outputs": [
    {
     "data": {
      "text/plain": [
       "Text(0, 0.5, 'Loss')"
      ]
     },
     "execution_count": 90,
     "metadata": {},
     "output_type": "execute_result"
    },
    {
     "data": {
      "image/png": "[encoded data removed]",
      "text/plain": [
       "<Figure size 720x576 with 1 Axes>"
      ]
     },
     "metadata": {},
     "output_type": "display_data"
    }
   ],
   "source": [
    "# Set up data to be plotted.\n",
    "epoch       = []\n",
    "all_losses  = []\n",
    "train_loss_values = []\n",
    "for i in range(0, len(train_losses_per_epoch)): \n",
    "    all_losses.extend(train_losses_per_epoch[i]) # To plot all losses.\n",
    "    epoch.append(i*len(train_losses_per_epoch[i])) # To plot the average loss of each epoch.\n",
    "    train_loss_values.append(np.mean(train_losses_per_epoch[i]))\n",
    "    \n",
    "# Plot the figure.\n",
    "jeje = [i for i in range(0, len(val_losses_per_epoch))]\n",
    "plt.figure(figsize=(10,8))\n",
    "plt.plot(jeje, train_loss_values, color=greens[0], linestyle='-', label='Train')\n",
    "plt.plot(jeje, val_losses_per_epoch, color=blues[4], linestyle='-', label='Validation')\n",
    "plt.legend(fontsize=8)\n",
    "plt.xlabel(\"Iteration\")\n",
    "plt.ylabel(\"Loss\")"
   ]
  },
  {
   "cell_type": "markdown",
   "id": "dede614b",
   "metadata": {},
   "source": [
    "This looks nice. Let's evaluate the model now."
   ]
  },
  {
   "cell_type": "markdown",
   "id": "8496a416",
   "metadata": {},
   "source": [
    "### Evaluation"
   ]
  },
  {
   "cell_type": "code",
   "execution_count": 91,
   "id": "f1fc231e",
   "metadata": {},
   "outputs": [],
   "source": [
    "# Function to forward the trained model and write report.\n",
    "def get_model_predictions(model, dataset):\n",
    "    model.eval()\n",
    "    y_probs  = []\n",
    "    y_preds  = []\n",
    "    with torch.no_grad():\n",
    "        for idx, x in enumerate(dataset):\n",
    "            probs = model(x).numpy()\n",
    "            y_probs.append(probs[0])\n",
    "            y_preds.append(int(round(probs[0])))\n",
    "    return y_probs, y_preds"
   ]
  },
  {
   "cell_type": "code",
   "execution_count": 92,
   "id": "4e9f58f1",
   "metadata": {},
   "outputs": [],
   "source": [
    "# Load dataset with features extracted with BERT and define dataloader.\n",
    "X_TEST_BERT_FILE  = 'X_test_bert_feat_preprocessed.npy'\n",
    "X_test           = np.load(X_TEST_BERT_FILE)\n",
    "X_test           = torch.Tensor(X_test)\n",
    "\n",
    "# Forward the test dataset.\n",
    "y_probs, y_preds = get_model_predictions(model, X_test)"
   ]
  },
  {
   "cell_type": "code",
   "execution_count": 93,
   "id": "d106cb59",
   "metadata": {},
   "outputs": [],
   "source": [
    "# Format results.\n",
    "df = pd.read_csv(TEST_FILE, sep=\",\")\n",
    "df = df.drop(columns=['text', 'keyword', 'location'])\n",
    "df['target'] = y_preds\n",
    "\n",
    "# Save the results and the best model.\n",
    "df.to_csv('bert_nn_test_results.csv', index=False)"
   ]
  },
  {
   "cell_type": "markdown",
   "id": "4e1d3358",
   "metadata": {},
   "source": [
    "We do not have the ground truth labels since the dataset is from a Kaggle competition. However, this approach gives a score of around $0.81$ for the metric used in that competition. Other strategies could be tested in the future to improve this result, and also some attributes from the dataset that were not used in this notebook (keyword and location) could be considered, maybe they will allow to obtain better results?"
   ]
  }
 ],
 "metadata": {
  "kernelspec": {
   "display_name": "Python 3 (ipykernel)",
   "language": "python",
   "name": "python3"
  },
  "language_info": {
   "codemirror_mode": {
    "name": "ipython",
    "version": 3
   },
   "file_extension": ".py",
   "mimetype": "text/x-python",
   "name": "python",
   "nbconvert_exporter": "python",
   "pygments_lexer": "ipython3",
   "version": "3.9.10"
  }
 },
 "nbformat": 4,
 "nbformat_minor": 5
}
